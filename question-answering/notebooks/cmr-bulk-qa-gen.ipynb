{
 "cells": [
  {
   "cell_type": "code",
   "execution_count": 1,
   "id": "b8771453",
   "metadata": {},
   "outputs": [],
   "source": [
    "%reload_ext autoreload\n",
    "%autoreload 2"
   ]
  },
  {
   "cell_type": "code",
   "execution_count": 2,
   "id": "ceab9d4b",
   "metadata": {},
   "outputs": [],
   "source": [
    "# !pip install transformers"
   ]
  },
  {
   "cell_type": "code",
   "execution_count": 3,
   "id": "36368849",
   "metadata": {},
   "outputs": [],
   "source": [
    "from transformers import (\n",
    "    RobertaConfig,\n",
    "    RobertaModel,\n",
    "    AutoTokenizer,\n",
    "    pipeline,\n",
    "    AutoModel,\n",
    "    RobertaTokenizerFast,\n",
    "    RobertaForQuestionAnswering,\n",
    "    AutoModelForQuestionAnswering,\n",
    "    AutoConfig\n",
    ")"
   ]
  },
  {
   "cell_type": "code",
   "execution_count": 4,
   "id": "76f7d9e3",
   "metadata": {},
   "outputs": [],
   "source": [
    "from pathlib import Path"
   ]
  },
  {
   "cell_type": "markdown",
   "id": "bd6b3561",
   "metadata": {},
   "source": [
    "# link primqa "
   ]
  },
  {
   "cell_type": "code",
   "execution_count": 5,
   "id": "635d1ad6",
   "metadata": {},
   "outputs": [],
   "source": [
    "import sys\n",
    "sys.path.append(\"/Users/nishparadox/dev/uah/nasa-impact/llm-experiments/ibm-llm/primeqa\")"
   ]
  },
  {
   "cell_type": "code",
   "execution_count": 6,
   "id": "00fa0b1a",
   "metadata": {},
   "outputs": [],
   "source": [
    "from primeqa.mrc.models.task_model import ModelForDownstreamTasks"
   ]
  },
  {
   "cell_type": "code",
   "execution_count": 7,
   "id": "be466faa",
   "metadata": {},
   "outputs": [],
   "source": [
    "from primeqa.mrc.models.heads.extractive import ExtractiveQAHead, EXTRACTIVE_HEAD"
   ]
  },
  {
   "cell_type": "markdown",
   "id": "ecfbfe16",
   "metadata": {},
   "source": [
    "# Load model"
   ]
  },
  {
   "cell_type": "code",
   "execution_count": 8,
   "id": "d469dcbb",
   "metadata": {},
   "outputs": [],
   "source": [
    "def load_model(config, pth, device=\"cpu\", freeze_base=False, freeze_llm=False):\n",
    "    model = ModelForDownstreamTasks.from_config(\n",
    "        config,# \n",
    "        pretrained_model_name_or_path=pth,\n",
    "        task_heads=EXTRACTIVE_HEAD\n",
    "    )\n",
    "    model.set_task_head(\"qa_head\")\n",
    "    model.to(device)\n",
    "    \n",
    "    # freeze the base model\n",
    "    print(f\"freeze_base={freeze_base}, freeze_llm={freeze_llm}\")\n",
    "    if freeze_base:\n",
    "        for param in model.roberta.parameters():\n",
    "            param.requires_grad = False\n",
    "    \n",
    "    if freeze_llm:\n",
    "        # freeze the llm part\n",
    "        for param in model.lm_head.parameters():\n",
    "            param.requires_grad = False\n",
    "            \n",
    "    return model"
   ]
  },
  {
   "cell_type": "code",
   "execution_count": 9,
   "id": "2ae85667",
   "metadata": {},
   "outputs": [],
   "source": [
    "# checkpoint_path = \"/Users/nishparadox/dev/uah/nasa-impact/llm-experiments/nasa_wiki_v6/sq2v6/train-watbertv6-squad-2ep/\"\n",
    "checkpoint_path = \"tmp/checkpoint-679/\"\n",
    "checkpoint_path = \"tmp/checkpoint-1359/\"\n",
    "checkpoint_path = \"tmp/checkpoint-5438/\""
   ]
  },
  {
   "cell_type": "code",
   "execution_count": 10,
   "id": "2796972b",
   "metadata": {},
   "outputs": [
    {
     "name": "stdout",
     "output_type": "stream",
     "text": [
      "{\"time\":\"2023-05-04 13:55:51,877\", \"name\": \"ExtractiveQAHead\", \"level\": \"INFO\", \"message\": \"Loading dropout value 0.1 from config attribute 'hidden_dropout_prob'\"}\n",
      "{\"time\":\"2023-05-04 13:55:52,427\", \"name\": \"RobertaModelForDownstreamTasks\", \"level\": \"INFO\", \"message\": \"Setting task head for first time to 'None'\"}\n",
      "freeze_base=False, freeze_llm=False\n"
     ]
    }
   ],
   "source": [
    "config = AutoConfig.from_pretrained(Path(checkpoint_path).joinpath(\"config.json\"))\n",
    "model = load_model(\n",
    "    config,\n",
    "    Path(checkpoint_path).joinpath(\"pytorch_model.bin\"),\n",
    "    device=\"mps\"\n",
    ")"
   ]
  },
  {
   "cell_type": "code",
   "execution_count": 11,
   "id": "a8f7d4b0",
   "metadata": {},
   "outputs": [],
   "source": [
    "tokenizer = AutoTokenizer.from_pretrained(checkpoint_path)"
   ]
  },
  {
   "cell_type": "code",
   "execution_count": 12,
   "id": "19a0f4fb",
   "metadata": {},
   "outputs": [],
   "source": [
    "# model = pipeline(\"question-answering\").model\n",
    "# tokenizer = pipeline(\"question-answering\").tokenizer"
   ]
  },
  {
   "cell_type": "code",
   "execution_count": 13,
   "id": "76ff25f8",
   "metadata": {},
   "outputs": [
    {
     "data": {
      "text/plain": [
       "RobertaModelForDownstreamTasks(\n",
       "  (roberta): RobertaModel(\n",
       "    (embeddings): RobertaEmbeddings(\n",
       "      (word_embeddings): Embedding(65536, 768, padding_idx=0)\n",
       "      (position_embeddings): Embedding(512, 768, padding_idx=0)\n",
       "      (token_type_embeddings): Embedding(2, 768)\n",
       "      (LayerNorm): LayerNorm((768,), eps=1e-12, elementwise_affine=True)\n",
       "      (dropout): Dropout(p=0.1, inplace=False)\n",
       "    )\n",
       "    (encoder): RobertaEncoder(\n",
       "      (layer): ModuleList(\n",
       "        (0-11): 12 x RobertaLayer(\n",
       "          (attention): RobertaAttention(\n",
       "            (self): RobertaSelfAttention(\n",
       "              (query): Linear(in_features=768, out_features=768, bias=True)\n",
       "              (key): Linear(in_features=768, out_features=768, bias=True)\n",
       "              (value): Linear(in_features=768, out_features=768, bias=True)\n",
       "              (dropout): Dropout(p=0.1, inplace=False)\n",
       "            )\n",
       "            (output): RobertaSelfOutput(\n",
       "              (dense): Linear(in_features=768, out_features=768, bias=True)\n",
       "              (LayerNorm): LayerNorm((768,), eps=1e-12, elementwise_affine=True)\n",
       "              (dropout): Dropout(p=0.1, inplace=False)\n",
       "            )\n",
       "          )\n",
       "          (intermediate): RobertaIntermediate(\n",
       "            (dense): Linear(in_features=768, out_features=3072, bias=True)\n",
       "            (intermediate_act_fn): GELUActivation()\n",
       "          )\n",
       "          (output): RobertaOutput(\n",
       "            (dense): Linear(in_features=3072, out_features=768, bias=True)\n",
       "            (LayerNorm): LayerNorm((768,), eps=1e-12, elementwise_affine=True)\n",
       "            (dropout): Dropout(p=0.1, inplace=False)\n",
       "          )\n",
       "        )\n",
       "      )\n",
       "    )\n",
       "    (pooler): RobertaPooler(\n",
       "      (dense): Linear(in_features=768, out_features=768, bias=True)\n",
       "      (activation): Tanh()\n",
       "    )\n",
       "  )\n",
       "  (lm_head): RobertaLMHead(\n",
       "    (dense): Linear(in_features=768, out_features=768, bias=True)\n",
       "    (layer_norm): LayerNorm((768,), eps=1e-12, elementwise_affine=True)\n",
       "    (decoder): Linear(in_features=768, out_features=65536, bias=True)\n",
       "  )\n",
       "  (task_heads): ModuleDict(\n",
       "    (qa_head): ExtractiveQAHead(\n",
       "      (qa_outputs): Linear(in_features=768, out_features=2, bias=True)\n",
       "      (classifier): RobertaClassificationHead(\n",
       "        (dense): Linear(in_features=768, out_features=768, bias=True)\n",
       "        (dropout): Dropout(p=0.1, inplace=False)\n",
       "        (out_proj): Linear(in_features=768, out_features=5, bias=True)\n",
       "      )\n",
       "    )\n",
       "  )\n",
       ")"
      ]
     },
     "execution_count": 13,
     "metadata": {},
     "output_type": "execute_result"
    }
   ],
   "source": [
    "model"
   ]
  },
  {
   "cell_type": "markdown",
   "id": "49b2a5b9",
   "metadata": {},
   "source": [
    "# QA pipeline"
   ]
  },
  {
   "cell_type": "code",
   "execution_count": 14,
   "id": "f07fb35b",
   "metadata": {},
   "outputs": [
    {
     "name": "stdout",
     "output_type": "stream",
     "text": [
      "{\"time\":\"2023-05-04 13:55:59,177\", \"name\": \"numexpr.utils\", \"level\": \"INFO\", \"message\": \"Note: NumExpr detected 10 cores but \"NUMEXPR_MAX_THREADS\" not set, so enforcing safe limit of 8.\"}\n",
      "{\"time\":\"2023-05-04 13:55:59,177\", \"name\": \"numexpr.utils\", \"level\": \"INFO\", \"message\": \"NumExpr defaulting to 8 threads.\"}\n"
     ]
    }
   ],
   "source": [
    "from langchain.chat_models import ChatOpenAI\n",
    "from langchain.document_loaders import TextLoader\n",
    "from langchain.schema import HumanMessage, SystemMessage"
   ]
  },
  {
   "cell_type": "markdown",
   "id": "3df435ca",
   "metadata": {},
   "source": [
    "# Putting together"
   ]
  },
  {
   "cell_type": "code",
   "execution_count": 15,
   "id": "8488043b",
   "metadata": {},
   "outputs": [],
   "source": [
    "import warnings\n",
    "warnings.filterwarnings(\"ignore\", message=\"Length of IterableDataset\")"
   ]
  },
  {
   "cell_type": "code",
   "execution_count": 16,
   "id": "f18a8fbd",
   "metadata": {},
   "outputs": [],
   "source": [
    "from typing import List"
   ]
  },
  {
   "cell_type": "code",
   "execution_count": 17,
   "id": "c1d23e56",
   "metadata": {},
   "outputs": [],
   "source": [
    "import json"
   ]
  },
  {
   "cell_type": "code",
   "execution_count": 18,
   "id": "9483b6f4",
   "metadata": {},
   "outputs": [],
   "source": [
    "from qa_gen import (\n",
    "    LangchainSimpleQuestionGenerator,\n",
    "    CachedLangchainSimpleQuestionGenerator,\n",
    "    QuestionAnswerGenerator\n",
    ")"
   ]
  },
  {
   "cell_type": "code",
   "execution_count": 19,
   "id": "27831709",
   "metadata": {},
   "outputs": [],
   "source": [
    "def cmr_document_iterator(path):\n",
    "    with open(path) as f:\n",
    "        for data in json.load(f):\n",
    "            text = data.get(\"text\", \"\").strip()\n",
    "            if not text:\n",
    "                continue\n",
    "            yield text"
   ]
  },
  {
   "cell_type": "code",
   "execution_count": 20,
   "id": "cb0ffb02",
   "metadata": {},
   "outputs": [],
   "source": [
    "def load_document(filepath):\n",
    "    loader = TextLoader(filepath)\n",
    "    doc = loader.load()[0]\n",
    "    return doc.page_content"
   ]
  },
  {
   "cell_type": "code",
   "execution_count": null,
   "id": "c281b951",
   "metadata": {},
   "outputs": [],
   "source": [
    "# i = 0\n",
    "# for text in cmr_document_iterator(\"data/cmr.json\"):\n",
    "#     if i > 3:\n",
    "#         break\n",
    "#     print(text[:128])\n",
    "#     i += 1"
   ]
  },
  {
   "cell_type": "code",
   "execution_count": null,
   "id": "200de556",
   "metadata": {},
   "outputs": [],
   "source": [
    "cmr_iterator = cmr_document_iterator(\"data/cmr.json\")"
   ]
  },
  {
   "cell_type": "code",
   "execution_count": null,
   "id": "5f3d979b",
   "metadata": {},
   "outputs": [],
   "source": [
    "# document = load_document(\"data/test.md\")\n",
    "document = next(cmr_iterator)\n",
    "document"
   ]
  },
  {
   "cell_type": "code",
   "execution_count": null,
   "id": "7edabe8d",
   "metadata": {},
   "outputs": [],
   "source": [
    "CachedLangchainSimpleQuestionGenerator._PROMPT_SYSTEM_QUESTION"
   ]
  },
  {
   "cell_type": "code",
   "execution_count": null,
   "id": "80425c29",
   "metadata": {},
   "outputs": [],
   "source": [
    "# question_generator = LangchainSimpleQuestionGenerator(ChatOpenAI(temperature=0.0), n_questions=10)\n",
    "question_generator = CachedLangchainSimpleQuestionGenerator(ChatOpenAI(temperature=0.0), n_questions=10)"
   ]
  },
  {
   "cell_type": "code",
   "execution_count": null,
   "id": "c61f8190",
   "metadata": {},
   "outputs": [],
   "source": [
    "question_generator.generate_questions_from_text(document)"
   ]
  },
  {
   "cell_type": "code",
   "execution_count": null,
   "id": "e0df8857",
   "metadata": {},
   "outputs": [],
   "source": [
    "qa_generator = QuestionAnswerGenerator(\n",
    "    question_generator=question_generator,\n",
    "    model=model,\n",
    "    tokenizer=tokenizer\n",
    ")"
   ]
  },
  {
   "cell_type": "code",
   "execution_count": null,
   "id": "ad675333",
   "metadata": {
    "scrolled": true
   },
   "outputs": [],
   "source": [
    "qa_data = qa_generator.generate_questions_from_text(document, cutoff_threshold=0.1)"
   ]
  },
  {
   "cell_type": "code",
   "execution_count": null,
   "id": "f8f7752f",
   "metadata": {},
   "outputs": [],
   "source": [
    "len(qa_data)"
   ]
  },
  {
   "cell_type": "code",
   "execution_count": null,
   "id": "3e88cd84",
   "metadata": {},
   "outputs": [],
   "source": [
    "# for q, a in zip(question_generator.generate_questions_from_text(document), qa_data):\n",
    "#     print(f\"Q = {q}\")\n",
    "#     print(a)\n",
    "#     print(\"-\"*20)"
   ]
  },
  {
   "cell_type": "code",
   "execution_count": null,
   "id": "cbdda6d7",
   "metadata": {},
   "outputs": [],
   "source": [
    "for _ in qa_data:\n",
    "    print(_[\"question\"], \"|\", _[\"answer\"], \"|\", f\"({_['score']})\")"
   ]
  },
  {
   "cell_type": "markdown",
   "id": "970de623",
   "metadata": {},
   "source": [
    "### sq2 conversion"
   ]
  },
  {
   "cell_type": "code",
   "execution_count": 21,
   "id": "d53836dc",
   "metadata": {},
   "outputs": [],
   "source": [
    "from itertools import groupby\n",
    "import uuid"
   ]
  },
  {
   "cell_type": "code",
   "execution_count": 22,
   "id": "64fd1ad6",
   "metadata": {},
   "outputs": [],
   "source": [
    "import json"
   ]
  },
  {
   "cell_type": "code",
   "execution_count": 23,
   "id": "4f5efcd4",
   "metadata": {},
   "outputs": [],
   "source": [
    "def convert_to_sq2(data):\n",
    "    res = dict(version=\"v2.0\", data=[])\n",
    "    for context, vals in groupby(data, key=lambda x: x[\"context\"]):\n",
    "        idx = str(hash(context))\n",
    "        tmpdata = dict(title=idx, paragraphs=[dict(qas=[], context=context)])\n",
    "        for _qad in vals:\n",
    "            tmpdata[\"paragraphs\"][0][\"qas\"].append(\n",
    "                dict(\n",
    "                    is_impossible=\"false\",\n",
    "                    question=_qad[\"question\"],\n",
    "                    answers=[dict(text=_qad[\"answer\"], answer_start=_qad[\"start\"])],\n",
    "                    id=uuid.uuid4().hex,\n",
    "                )\n",
    "            )\n",
    "        res[\"data\"].append(tmpdata)\n",
    "    return res"
   ]
  },
  {
   "cell_type": "code",
   "execution_count": 24,
   "id": "cb95644c",
   "metadata": {},
   "outputs": [],
   "source": [
    "# with open(\"data/dump.json\", \"w\") as f:\n",
    "#     json.dump(convert_to_sq2(qa_data), f)"
   ]
  },
  {
   "cell_type": "markdown",
   "id": "4cd663e7",
   "metadata": {},
   "source": [
    "# In Bulk"
   ]
  },
  {
   "cell_type": "code",
   "execution_count": 25,
   "id": "37347796",
   "metadata": {},
   "outputs": [],
   "source": [
    "from tqdm import tqdm"
   ]
  },
  {
   "cell_type": "code",
   "execution_count": 26,
   "id": "4480d015",
   "metadata": {},
   "outputs": [],
   "source": [
    "import pickle"
   ]
  },
  {
   "cell_type": "code",
   "execution_count": 27,
   "id": "12c1d9c8",
   "metadata": {},
   "outputs": [],
   "source": [
    "def bulk_qa_generator(doc_iterator, question_generator, qa_generator, n_docs=10, cutoff_threshold=0.1):\n",
    "    qas = []\n",
    "    counter = 0\n",
    "    for document in tqdm(doc_iterator, total=n_docs):\n",
    "        questions = question_generator.generate_questions_from_text(document)\n",
    "        qa_data = qa_generator.generate_questions_from_text(\n",
    "            document,\n",
    "            cutoff_threshold=cutoff_threshold\n",
    "        )\n",
    "        qas.extend(qa_data)\n",
    "        counter += 1\n",
    "        if counter > n_docs:\n",
    "            break\n",
    "    return convert_to_sq2(qas)"
   ]
  },
  {
   "cell_type": "code",
   "execution_count": 30,
   "id": "073c0ebc",
   "metadata": {},
   "outputs": [],
   "source": [
    "question_generator = CachedLangchainSimpleQuestionGenerator(ChatOpenAI(temperature=0.0), n_questions=10)"
   ]
  },
  {
   "cell_type": "code",
   "execution_count": 31,
   "id": "667deed4",
   "metadata": {},
   "outputs": [],
   "source": [
    "qa_generator = QuestionAnswerGenerator(\n",
    "    question_generator=question_generator,\n",
    "    model=model,\n",
    "    tokenizer=tokenizer\n",
    ")"
   ]
  },
  {
   "cell_type": "code",
   "execution_count": 32,
   "id": "099c3329",
   "metadata": {},
   "outputs": [],
   "source": [
    "cmr_iterator = cmr_document_iterator(\"data/cmr.json\")"
   ]
  },
  {
   "cell_type": "code",
   "execution_count": 33,
   "id": "6707b2fe",
   "metadata": {},
   "outputs": [
    {
     "name": "stderr",
     "output_type": "stream",
     "text": [
      "100%|████████████████████████████████████████████████████████████████████████████████████████████████████████████████████████████████████████████████████████| 10/10 [02:20<00:00, 14.01s/it]\n"
     ]
    }
   ],
   "source": [
    "cmr_qa_sq2 = bulk_qa_generator(\n",
    "    cmr_iterator,\n",
    "    question_generator,\n",
    "    qa_generator,\n",
    "    n_docs=10\n",
    ")"
   ]
  },
  {
   "cell_type": "code",
   "execution_count": 34,
   "id": "c4ecb512",
   "metadata": {},
   "outputs": [
    {
     "data": {
      "text/plain": [
       "9"
      ]
     },
     "execution_count": 34,
     "metadata": {},
     "output_type": "execute_result"
    }
   ],
   "source": [
    "len(cmr_qa_sq2[\"data\"])"
   ]
  },
  {
   "cell_type": "code",
   "execution_count": 36,
   "id": "f3617f2a",
   "metadata": {},
   "outputs": [],
   "source": [
    "# cmr_qa_sq2"
   ]
  },
  {
   "cell_type": "code",
   "execution_count": 37,
   "id": "2d846a3a",
   "metadata": {},
   "outputs": [],
   "source": [
    "with open(\"data/cached_question_generator.pkl\", \"wb\") as f:\n",
    "    pickle.dump(question_generator, f)"
   ]
  },
  {
   "cell_type": "code",
   "execution_count": 39,
   "id": "f56a3bd0",
   "metadata": {},
   "outputs": [],
   "source": [
    "with open(\"data/cmr_qa_sqv2.json\", \"w\") as f:\n",
    "    json.dump(cmr_qa_sq2, f)"
   ]
  },
  {
   "cell_type": "markdown",
   "id": "eb7a4af4",
   "metadata": {},
   "source": [
    "# Dataset test"
   ]
  },
  {
   "cell_type": "code",
   "execution_count": null,
   "id": "f8390921",
   "metadata": {},
   "outputs": [],
   "source": [
    "# !pip install datasets==2.3.2"
   ]
  },
  {
   "cell_type": "code",
   "execution_count": null,
   "id": "bb381cef",
   "metadata": {},
   "outputs": [],
   "source": [
    "from primeqa.mrc.processors.preprocessors.squad import SQUADPreprocessor"
   ]
  },
  {
   "cell_type": "code",
   "execution_count": null,
   "id": "9f42c0f3",
   "metadata": {},
   "outputs": [],
   "source": [
    "from datasets import load_dataset"
   ]
  },
  {
   "cell_type": "code",
   "execution_count": null,
   "id": "b4483cd3",
   "metadata": {},
   "outputs": [],
   "source": [
    "sq2 = load_dataset(\"squad_v2\")"
   ]
  },
  {
   "cell_type": "code",
   "execution_count": null,
   "id": "c6357434",
   "metadata": {},
   "outputs": [],
   "source": []
  },
  {
   "cell_type": "code",
   "execution_count": null,
   "id": "7242280c",
   "metadata": {},
   "outputs": [],
   "source": [
    "sq2 = load_dataset(\"json\", \"plain_text\", data_files=\"data/dump.json\")[\"train\"]"
   ]
  },
  {
   "cell_type": "code",
   "execution_count": null,
   "id": "c65db5b0",
   "metadata": {},
   "outputs": [],
   "source": [
    "sq2[0]"
   ]
  },
  {
   "cell_type": "code",
   "execution_count": null,
   "id": "721819df",
   "metadata": {},
   "outputs": [],
   "source": [
    "preprocessor = SQUADPreprocessor(\n",
    "    stride=128,\n",
    "    tokenizer=tokenizer,\n",
    "    load_from_cache_file=False,\n",
    "    negative_sampling_prob_when_has_answer=1.0,\n",
    "    negative_sampling_prob_when_no_answer=1.0,   \n",
    ")"
   ]
  },
  {
   "cell_type": "code",
   "execution_count": null,
   "id": "e24f371d",
   "metadata": {},
   "outputs": [],
   "source": [
    "examples_train, data_train = preprocessor.process_train(sq2)"
   ]
  },
  {
   "cell_type": "code",
   "execution_count": null,
   "id": "2ef6d660",
   "metadata": {},
   "outputs": [],
   "source": [
    "examples_train[0]"
   ]
  },
  {
   "cell_type": "code",
   "execution_count": null,
   "id": "a75de94b",
   "metadata": {},
   "outputs": [],
   "source": []
  }
 ],
 "metadata": {
  "kernelspec": {
   "display_name": "Python 3 (ipykernel)",
   "language": "python",
   "name": "python3"
  },
  "language_info": {
   "codemirror_mode": {
    "name": "ipython",
    "version": 3
   },
   "file_extension": ".py",
   "mimetype": "text/x-python",
   "name": "python",
   "nbconvert_exporter": "python",
   "pygments_lexer": "ipython3",
   "version": "3.8.13"
  }
 },
 "nbformat": 4,
 "nbformat_minor": 5
}
